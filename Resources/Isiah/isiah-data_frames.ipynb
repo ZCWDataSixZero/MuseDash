{
 "cells": [
  {
   "cell_type": "code",
   "execution_count": 1,
   "id": "96fe82ef",
   "metadata": {},
   "outputs": [],
   "source": [
    "import pandas as pd\n",
    "import os"
   ]
  },
  {
   "cell_type": "code",
   "execution_count": 2,
   "id": "31ba40ca",
   "metadata": {},
   "outputs": [],
   "source": [
    "from pyspark.sql import SparkSession"
   ]
  },
  {
   "cell_type": "code",
   "execution_count": 3,
   "id": "5a878135",
   "metadata": {},
   "outputs": [
    {
     "name": "stderr",
     "output_type": "stream",
     "text": [
      "25/05/07 14:13:26 WARN Utils: Your hostname, Zipcoders-MacBook-Pro-8.local resolves to a loopback address: 127.0.0.1; using 192.168.3.96 instead (on interface en0)\n",
      "25/05/07 14:13:26 WARN Utils: Set SPARK_LOCAL_IP if you need to bind to another address\n",
      "Setting default log level to \"WARN\".\n",
      "To adjust logging level use sc.setLogLevel(newLevel). For SparkR, use setLogLevel(newLevel).\n",
      "25/05/07 14:13:26 WARN NativeCodeLoader: Unable to load native-hadoop library for your platform... using builtin-java classes where applicable\n",
      "25/05/07 14:13:27 WARN Utils: Service 'SparkUI' could not bind on port 4040. Attempting port 4041.\n"
     ]
    },
    {
     "data": {
      "text/html": [
       "\n",
       "            <div>\n",
       "                <p><b>SparkSession - in-memory</b></p>\n",
       "                \n",
       "        <div>\n",
       "            <p><b>SparkContext</b></p>\n",
       "\n",
       "            <p><a href=\"http://192.168.3.96:4041\">Spark UI</a></p>\n",
       "\n",
       "            <dl>\n",
       "              <dt>Version</dt>\n",
       "                <dd><code>v3.5.5</code></dd>\n",
       "              <dt>Master</dt>\n",
       "                <dd><code>local[*]</code></dd>\n",
       "              <dt>AppName</dt>\n",
       "                <dd><code>MuseDash PySpark Learning</code></dd>\n",
       "            </dl>\n",
       "        </div>\n",
       "        \n",
       "            </div>\n",
       "        "
      ],
      "text/plain": [
       "<pyspark.sql.session.SparkSession at 0x10f044f50>"
      ]
     },
     "execution_count": 3,
     "metadata": {},
     "output_type": "execute_result"
    }
   ],
   "source": [
    "## Initialize the SparkSession\n",
    "# appName is the name of the application\n",
    "# getOrCreate() creates a new session or retrieves an existing one\n",
    "spark = SparkSession.builder \\\n",
    "    .appName(\"MuseDash PySpark Learning\") \\\n",
    "        .getOrCreate()\n",
    "\n",
    "## Verify that SparkSession is created\n",
    "spark"
   ]
  },
  {
   "cell_type": "code",
   "execution_count": 8,
   "id": "5772b316",
   "metadata": {},
   "outputs": [
    {
     "name": "stdout",
     "output_type": "stream",
     "text": [
      "Data loaded successfully\n",
      "+---------+-------------------+---------+------+-------------+--------+---------+-----+-----------+-------------+---------+-----+-------------+--------------------+------+-----+\n",
      "|     auth|               city|firstName|gender|itemInSession|lastName|      lat|level|        lon| registration|sessionId|state|           ts|           userAgent|userId|  zip|\n",
      "+---------+-------------------+---------+------+-------------+--------+---------+-----+-----------+-------------+---------+-----+-------------+--------------------+------+-----+\n",
      "|Logged In|       Conshohocken|    Kezia|     F|            5|  Fowler|40.080337| paid| -75.300461|1714382893433|     1702|   PA|1714577869433|Mozilla/5.0 (Maci...|   813|19428|\n",
      "|Logged In|          Las Vegas|     Jace|     M|            3| Patrick|36.111833| free|-115.211676|1714224142433|     1326|   NV|1714581991433|\"Mozilla/5.0 (X11...|   691|89103|\n",
      "|Logged In|          Milwaukee|  Zachary|     M|            3|Gonzalez|43.049005| free|  -88.04223|1714405373433|     1820|   WI|1714649721433|Mozilla/5.0 (Wind...|   983|53226|\n",
      "|Logged In|      New Braunfels|   Alexis|     F|            4|    Hahn|29.696878| free| -98.070726|1714567867433|     1412|   TX|1714656728433|\"Mozilla/5.0 (Mac...|   665|78130|\n",
      "|Logged In|Egg Harbor Township| Brittany|     F|            2|  Obrien|39.388393| free| -74.620728|1714280675433|     2272|   NJ|1714676789433|Mozilla/5.0 (Maci...|   390|08234|\n",
      "+---------+-------------------+---------+------+-------------+--------+---------+-----+-----------+-------------+---------+-----+-------------+--------------------+------+-----+\n",
      "only showing top 5 rows\n",
      "\n"
     ]
    }
   ],
   "source": [
    "try:\n",
    "    df_status = spark.read.json ('./Data/status_change_events.json')\n",
    "    print('Data loaded successfully')\n",
    "except Exception as e:\n",
    "    print(f'Error loading data: {e}')\n",
    "\n",
    "df_status.show(5)"
   ]
  },
  {
   "cell_type": "code",
   "execution_count": 9,
   "id": "e8e49ff9",
   "metadata": {},
   "outputs": [],
   "source": [
    "df_status = df_status.withColumnRenamed('level', 'subscription') #Change the column name from level to subscription"
   ]
  },
  {
   "cell_type": "code",
   "execution_count": 10,
   "id": "d325f046",
   "metadata": {},
   "outputs": [
    {
     "name": "stdout",
     "output_type": "stream",
     "text": [
      "+---------+------------+---------+------+-------------+--------+---------+------------+-----------+-------------+---------+-----+-------------+--------------------+------+-----+\n",
      "|     auth|        city|firstName|gender|itemInSession|lastName|      lat|subscription|        lon| registration|sessionId|state|           ts|           userAgent|userId|  zip|\n",
      "+---------+------------+---------+------+-------------+--------+---------+------------+-----------+-------------+---------+-----+-------------+--------------------+------+-----+\n",
      "|Logged In|Conshohocken|    Kezia|     F|            5|  Fowler|40.080337|        paid| -75.300461|1714382893433|     1702|   PA|1714577869433|Mozilla/5.0 (Maci...|   813|19428|\n",
      "|Logged In|   Las Vegas|     Jace|     M|            3| Patrick|36.111833|        free|-115.211676|1714224142433|     1326|   NV|1714581991433|\"Mozilla/5.0 (X11...|   691|89103|\n",
      "|Logged In|   Milwaukee|  Zachary|     M|            3|Gonzalez|43.049005|        free|  -88.04223|1714405373433|     1820|   WI|1714649721433|Mozilla/5.0 (Wind...|   983|53226|\n",
      "+---------+------------+---------+------+-------------+--------+---------+------------+-----------+-------------+---------+-----+-------------+--------------------+------+-----+\n",
      "only showing top 3 rows\n",
      "\n"
     ]
    }
   ],
   "source": [
    "df_status.show(3)"
   ]
  },
  {
   "cell_type": "code",
   "execution_count": 11,
   "id": "fa2b5fe1",
   "metadata": {},
   "outputs": [
    {
     "name": "stdout",
     "output_type": "stream",
     "text": [
      "+----+----+---------+------+-------------+--------+---+------------+---+------------+---------+-----+---+---------+------+---+\n",
      "|auth|city|firstName|gender|itemInSession|lastName|lat|subscription|lon|registration|sessionId|state| ts|userAgent|userId|zip|\n",
      "+----+----+---------+------+-------------+--------+---+------------+---+------------+---------+-----+---+---------+------+---+\n",
      "+----+----+---------+------+-------------+--------+---+------------+---+------------+---------+-----+---+---------+------+---+\n",
      "\n"
     ]
    }
   ],
   "source": [
    "\n",
    "# Select rows where any column has null values\n",
    "from pyspark.sql.functions import col\n",
    "\n",
    "df_status.filter(\n",
    "\tcol('auth').isNull() | col('city').isNull() | col('firstName').isNull() |\n",
    "\tcol('gender').isNull() | col('itemInSession').isNull() | col('lastName').isNull() |\n",
    "\tcol('lat').isNull() | col('subscription').isNull() | col('lon').isNull() |\n",
    "\tcol('registration').isNull() | col('sessionId').isNull() | col('state').isNull() |\n",
    "\tcol('ts').isNull() | col('userAgent').isNull() | col('userId').isNull() | col('zip').isNull()\n",
    ").show(10)\n"
   ]
  },
  {
   "cell_type": "code",
   "execution_count": 12,
   "id": "b6baed22",
   "metadata": {},
   "outputs": [
    {
     "name": "stdout",
     "output_type": "stream",
     "text": [
      "+---------+------------+---------+------+-------------+--------+---------+------------+----------+-------------+---------+-----+-------------+--------------------+------+-----+\n",
      "|     auth|        city|firstName|gender|itemInSession|lastName|      lat|subscription|       lon| registration|sessionId|state|           ts|           userAgent|userId|  zip|\n",
      "+---------+------------+---------+------+-------------+--------+---------+------------+----------+-------------+---------+-----+-------------+--------------------+------+-----+\n",
      "|Logged In|Conshohocken|    Kezia|     F|            5|  Fowler|40.080337|        paid|-75.300461|1714382893433|     1702|   PA|1714577869433|Mozilla/5.0 (Maci...|   813|19428|\n",
      "+---------+------------+---------+------+-------------+--------+---------+------------+----------+-------------+---------+-----+-------------+--------------------+------+-----+\n",
      "\n"
     ]
    }
   ],
   "source": [
    "df_status.where(df_status['sessionId'] == 1702).show()\n"
   ]
  },
  {
   "cell_type": "code",
   "execution_count": 13,
   "id": "5a7aa83e",
   "metadata": {},
   "outputs": [],
   "source": [
    "from pyspark.sql.functions import from_unixtime, col\n",
    "# Convert the 'ts' column from Unix timestamp to a readable date format\n",
    "df_status = df_status.withColumn('ts', from_unixtime(col('ts') / 1000, 'yyyy-MM-dd HH:mm:ss'))"
   ]
  },
  {
   "cell_type": "code",
   "execution_count": 14,
   "id": "0f0e83bd",
   "metadata": {},
   "outputs": [
    {
     "name": "stdout",
     "output_type": "stream",
     "text": [
      "+----+----+---------+------+-------------+--------+---+------------+---+------------+---------+-----+---+---------+------+---+\n",
      "|auth|city|firstName|gender|itemInSession|lastName|lat|subscription|lon|registration|sessionId|state| ts|userAgent|userId|zip|\n",
      "+----+----+---------+------+-------------+--------+---+------------+---+------------+---------+-----+---+---------+------+---+\n",
      "+----+----+---------+------+-------------+--------+---+------------+---+------------+---------+-----+---+---------+------+---+\n",
      "\n"
     ]
    }
   ],
   "source": [
    "df_status.filter(col('ts').isNull()).show(5)"
   ]
  },
  {
   "cell_type": "code",
   "execution_count": 15,
   "id": "c8b9f73f",
   "metadata": {},
   "outputs": [
    {
     "name": "stdout",
     "output_type": "stream",
     "text": [
      "+------+--------+---------+------+---------+-------------+------------+-------------------+-------------------+-----+-----+---------+-----------+--------------------+---------+\n",
      "|userId|lastName|firstName|gender|sessionId|itemInSession|subscription|                 ts|               city|state|  zip|      lat|        lon|           userAgent|     auth|\n",
      "+------+--------+---------+------+---------+-------------+------------+-------------------+-------------------+-----+-----+---------+-----------+--------------------+---------+\n",
      "|   813|  Fowler|    Kezia|     F|     1702|            5|        paid|2024-05-01 11:37:49|       Conshohocken|   PA|19428|40.080337| -75.300461|Mozilla/5.0 (Maci...|Logged In|\n",
      "|   691| Patrick|     Jace|     M|     1326|            3|        free|2024-05-01 12:46:31|          Las Vegas|   NV|89103|36.111833|-115.211676|\"Mozilla/5.0 (X11...|Logged In|\n",
      "|   983|Gonzalez|  Zachary|     M|     1820|            3|        free|2024-05-02 07:35:21|          Milwaukee|   WI|53226|43.049005|  -88.04223|Mozilla/5.0 (Wind...|Logged In|\n",
      "|   665|    Hahn|   Alexis|     F|     1412|            4|        free|2024-05-02 09:32:08|      New Braunfels|   TX|78130|29.696878| -98.070726|\"Mozilla/5.0 (Mac...|Logged In|\n",
      "|   390|  Obrien| Brittany|     F|     2272|            2|        free|2024-05-02 15:06:29|Egg Harbor Township|   NJ|08234|39.388393| -74.620728|Mozilla/5.0 (Maci...|Logged In|\n",
      "|   844|  Bowman|     Emry|     F|     1651|            2|        free|2024-05-02 21:32:33|           Valencia|   CA|91354|34.465755|-118.553789|\"Mozilla/5.0 (Win...|Logged In|\n",
      "|   665|    Hahn|   Alexis|     F|     2337|           17|        paid|2024-05-02 22:04:25|      New Braunfels|   TX|78130|29.696878| -98.070726|\"Mozilla/5.0 (Mac...|Logged In|\n",
      "|   655|  Gibson|  Charley|     F|      654|            2|        free|2024-05-03 01:32:49|            Houston|   TX|77084|29.827486|  -95.65992|\"Mozilla/5.0 (Win...|Logged In|\n",
      "|   971|  Fields|  Nikolai|     M|     1787|            6|        free|2024-05-03 09:43:50|       Canal Fulton|   OH|44614|40.889547| -81.576285|\"Mozilla/5.0 (iPh...|Logged In|\n",
      "|   735|    Boyd|   Jaleah|     F|     2407|            2|        free|2024-05-03 15:21:27|           Bethesda|   MD|20814|39.004989|  -77.10149|\"Mozilla/5.0 (Mac...|Logged In|\n",
      "+------+--------+---------+------+---------+-------------+------------+-------------------+-------------------+-----+-----+---------+-----------+--------------------+---------+\n",
      "only showing top 10 rows\n",
      "\n"
     ]
    }
   ],
   "source": [
    "#move columns around\n",
    "df_status = df_status.select(col('userId'), col('lastName'), col('firstName'), col('gender'), col('sessionId'), col('itemInSession'), col('subscription'), col('ts'), col('city'), col('state'), col('zip'), col('lat'), col('lon'), col('userAgent'), col('auth'))\n",
    "df_status.show(10)\n"
   ]
  },
  {
   "cell_type": "code",
   "execution_count": 16,
   "id": "a926f1af",
   "metadata": {},
   "outputs": [
    {
     "name": "stdout",
     "output_type": "stream",
     "text": [
      "root\n",
      " |-- userId: long (nullable = true)\n",
      " |-- lastName: string (nullable = true)\n",
      " |-- firstName: string (nullable = true)\n",
      " |-- gender: string (nullable = true)\n",
      " |-- sessionId: long (nullable = true)\n",
      " |-- itemInSession: long (nullable = true)\n",
      " |-- subscription: string (nullable = true)\n",
      " |-- ts: string (nullable = true)\n",
      " |-- city: string (nullable = true)\n",
      " |-- state: string (nullable = true)\n",
      " |-- zip: string (nullable = true)\n",
      " |-- lat: double (nullable = true)\n",
      " |-- lon: double (nullable = true)\n",
      " |-- userAgent: string (nullable = true)\n",
      " |-- auth: string (nullable = true)\n",
      "\n"
     ]
    }
   ],
   "source": [
    "df_status.printSchema()"
   ]
  },
  {
   "cell_type": "code",
   "execution_count": null,
   "id": "690aa405",
   "metadata": {},
   "outputs": [],
   "source": []
  },
  {
   "cell_type": "code",
   "execution_count": 17,
   "id": "f32de982",
   "metadata": {},
   "outputs": [
    {
     "name": "stderr",
     "output_type": "stream",
     "text": [
      "                                                                                \r"
     ]
    },
    {
     "name": "stdout",
     "output_type": "stream",
     "text": [
      "Data loaded successfully\n",
      "+--------------------+---------+---------+---------+---------+------+-------------+--------+---------+-----+----------+-------------+---------+--------------------+-----+-------------+--------------------+------+-----+\n",
      "|              artist|     auth|     city| duration|firstName|gender|itemInSession|lastName|      lat|level|       lon| registration|sessionId|                song|state|           ts|           userAgent|userId|  zip|\n",
      "+--------------------+---------+---------+---------+---------+------+-------------+--------+---------+-----+----------+-------------+---------+--------------------+-----+-------------+--------------------+------+-----+\n",
      "|John Fred & His P...|Logged In|   Covert|171.80688|     Vera|     F|            2| Stanley|42.285992| paid|-86.268503|1713855719433|     1498|    Judy In Disguise|   MI|1714574635433|Mozilla/5.0 (Wind...|   851|49043|\n",
      "|    Transvision Vamp|Logged In| Gas City|209.91956|   Landon|     M|           17|  Lucero|40.479845| paid|-85.582288|1714232178433|       23|    I Want Your Love|   IN|1714574750433|\"Mozilla/5.0 (X11...|    24|46933|\n",
      "|Florence + The Ma...|Logged In|Rochester|219.66322|      Mia|     F|            6| Jimenez|42.724318| free|-83.147306|1714366937433|      915|Dog Days Are Over...|   MI|1714574773433|\"Mozilla/5.0 (Win...|   916|48306|\n",
      "| Theory Of A Deadman|Logged In|   Covert|210.49425|     Vera|     F|            3| Stanley|42.285992| paid|-86.268503|1713855719433|     1498|   End Of The Summer|   MI|1714574806433|Mozilla/5.0 (Wind...|   851|49043|\n",
      "|           Aerosmith|Logged In|  Liberty| 319.7383|   Aayush|     M|           12| Rodgers|30.075658| paid|-94.733441|1714411270433|     1573|               Crazy|   TX|1714574809433|\"Mozilla/5.0 (Mac...|   309|77575|\n",
      "+--------------------+---------+---------+---------+---------+------+-------------+--------+---------+-----+----------+-------------+---------+--------------------+-----+-------------+--------------------+------+-----+\n",
      "only showing top 5 rows\n",
      "\n"
     ]
    }
   ],
   "source": [
    "try:\n",
    "    df_listen = spark.read.json ('./Data/listen_events.json')\n",
    "    print('Data loaded successfully')\n",
    "except Exception as e:\n",
    "    print(f'Error loading data: {e}')\n",
    "\n",
    "df_listen.show(5)"
   ]
  },
  {
   "cell_type": "code",
   "execution_count": 18,
   "id": "d0b70d19",
   "metadata": {},
   "outputs": [],
   "source": [
    "df_listen = df_listen.withColumnRenamed('level', 'subscription') #Change the column name from level to subscription"
   ]
  },
  {
   "cell_type": "code",
   "execution_count": 19,
   "id": "4fd5df62",
   "metadata": {},
   "outputs": [
    {
     "name": "stdout",
     "output_type": "stream",
     "text": [
      "+--------------------+---------+---------+---------+---------+------+-------------+--------+---------+------------+----------+-------------+---------+--------------------+-----+-------------+--------------------+------+-----+\n",
      "|              artist|     auth|     city| duration|firstName|gender|itemInSession|lastName|      lat|subscription|       lon| registration|sessionId|                song|state|           ts|           userAgent|userId|  zip|\n",
      "+--------------------+---------+---------+---------+---------+------+-------------+--------+---------+------------+----------+-------------+---------+--------------------+-----+-------------+--------------------+------+-----+\n",
      "|John Fred & His P...|Logged In|   Covert|171.80688|     Vera|     F|            2| Stanley|42.285992|        paid|-86.268503|1713855719433|     1498|    Judy In Disguise|   MI|1714574635433|Mozilla/5.0 (Wind...|   851|49043|\n",
      "|    Transvision Vamp|Logged In| Gas City|209.91956|   Landon|     M|           17|  Lucero|40.479845|        paid|-85.582288|1714232178433|       23|    I Want Your Love|   IN|1714574750433|\"Mozilla/5.0 (X11...|    24|46933|\n",
      "|Florence + The Ma...|Logged In|Rochester|219.66322|      Mia|     F|            6| Jimenez|42.724318|        free|-83.147306|1714366937433|      915|Dog Days Are Over...|   MI|1714574773433|\"Mozilla/5.0 (Win...|   916|48306|\n",
      "+--------------------+---------+---------+---------+---------+------+-------------+--------+---------+------------+----------+-------------+---------+--------------------+-----+-------------+--------------------+------+-----+\n",
      "only showing top 3 rows\n",
      "\n"
     ]
    }
   ],
   "source": [
    "df_listen.show(3)"
   ]
  },
  {
   "cell_type": "code",
   "execution_count": 20,
   "id": "1b484974",
   "metadata": {},
   "outputs": [
    {
     "name": "stdout",
     "output_type": "stream",
     "text": [
      "+------+--------------------+--------------------+------------+---------+-----+\n",
      "|userId|              artist|                song|subscription|     city|state|\n",
      "+------+--------------------+--------------------+------------+---------+-----+\n",
      "|   851|John Fred & His P...|    Judy In Disguise|        paid|   Covert|   MI|\n",
      "|    24|    Transvision Vamp|    I Want Your Love|        paid| Gas City|   IN|\n",
      "|   851| Theory Of A Deadman|   End Of The Summer|        paid|   Covert|   MI|\n",
      "|   309|           Aerosmith|               Crazy|        paid|  Liberty|   TX|\n",
      "|   278|London Symphony O...|Swan Lake Op. 20 ...|        paid|Owensboro|   KY|\n",
      "+------+--------------------+--------------------+------------+---------+-----+\n",
      "only showing top 5 rows\n",
      "\n"
     ]
    }
   ],
   "source": [
    "\n",
    "paid_df = df_listen.filter(col('subscription') == 'paid')\n",
    "\n",
    "    # Select relevant columns\n",
    "paid_df = paid_df.select('userId', 'artist', 'song', 'subscription', 'city', 'state')\n",
    "\n",
    "    # Show the first 5 rows\n",
    "paid_df.show(5)"
   ]
  },
  {
   "cell_type": "code",
   "execution_count": 21,
   "id": "98e0191d",
   "metadata": {},
   "outputs": [
    {
     "name": "stderr",
     "output_type": "stream",
     "text": [
      "[Stage 11:>                                                         (0 + 8) / 8]\r"
     ]
    },
    {
     "name": "stdout",
     "output_type": "stream",
     "text": [
      "+--------------------+-----+\n",
      "|              artist|count|\n",
      "+--------------------+-----+\n",
      "|       Kings Of Leon| 8811|\n",
      "|            Coldplay| 8513|\n",
      "|Florence + The Ma...| 5966|\n",
      "|       Dwight Yoakam| 5508|\n",
      "|            BjÃÂ¶rk| 5450|\n",
      "+--------------------+-----+\n",
      "only showing top 5 rows\n",
      "\n"
     ]
    },
    {
     "name": "stderr",
     "output_type": "stream",
     "text": [
      "                                                                                \r"
     ]
    }
   ],
   "source": [
    "from pyspark.sql.functions import count\n",
    "#Group by artist, count the occurences, and sort in descending order\n",
    "artist_counts = paid_df.groupBy('artist').agg(count('*').alias('count')).orderBy(col('count').desc())\n",
    "# Show the top 10 artists for paid users\n",
    "artist_counts.show(5)"
   ]
  },
  {
   "cell_type": "code",
   "execution_count": 39,
   "id": "21eb327e",
   "metadata": {},
   "outputs": [
    {
     "name": "stderr",
     "output_type": "stream",
     "text": [
      "                                                                                \r"
     ]
    },
    {
     "data": {
      "image/png": "[encoded data removed]",
      "text/plain": [
       "<Figure size 640x480 with 1 Axes>"
      ]
     },
     "metadata": {},
     "output_type": "display_data"
    }
   ],
   "source": [
    "def top_paid_songs():\n",
    "    \"\"\"\n",
    "    Function to find top 5 songs for paid users\n",
    "    \"\"\"\n",
    "    paid_df = df_listen.filter(col('subscription') == 'paid')\n",
    "    # Group by song, count the occurrences, and sort in descending order\n",
    "    song_counts = paid_df.groupBy('song').agg(count('*').alias('count')).orderBy(col('count').desc())\n",
    "\n",
    "    top_songs = song_counts.limit(5).collect()\n",
    "\n",
    "    songs = [row ['song'] for row in top_songs][::-1]\n",
    "    counts = [row ['count'] for row in top_songs][::-1]\n",
    "\n",
    "    import matplotlib.pyplot as plt\n",
    "    plt.barh(songs, counts)\n",
    "    plt.ylabel(\"Songs\")\n",
    "    plt.xlabel(\"Number of streams\")\n",
    "    plt.title(\"Top 5 songs among paid users\")\n",
    "    plt.show()\n",
    "top_paid_songs()\n",
    "    \n"
   ]
  },
  {
   "cell_type": "code",
   "execution_count": 38,
   "id": "5ec5f2cb",
   "metadata": {},
   "outputs": [
    {
     "name": "stderr",
     "output_type": "stream",
     "text": [
      "                                                                                \r"
     ]
    },
    {
     "data": {
      "image/png": "[encoded data removed]",
      "text/plain": [
       "<Figure size 640x480 with 1 Axes>"
      ]
     },
     "metadata": {},
     "output_type": "display_data"
    }
   ],
   "source": [
    "def top_free_songs():\n",
    "    \"\"\"\n",
    "    Function to find top 5 songs for free users\n",
    "    \"\"\"\n",
    "    free_df = df_listen.filter(col('subscription') == 'free')\n",
    "\n",
    "    # Select relevant columns\n",
    "    free_df = free_df.select('userId', 'artist', 'song', 'subscription', 'city', 'state')\n",
    "\n",
    "    # Group by song, count the occurrences, and sort in descending order\n",
    "    song_counts = free_df.groupBy('song').agg(count('*').alias('count')).orderBy(col('count').desc())\n",
    "\n",
    "    top_songs = song_counts.limit(5).collect()\n",
    "\n",
    "    songs = [row ['song'] for row in top_songs][::-1]\n",
    "    counts = [row ['count'] for row in top_songs][::-1]\n",
    "\n",
    "    import matplotlib.pyplot as plt\n",
    "    plt.barh(songs, counts)\n",
    "    plt.xlabel(\"Number of streams\")\n",
    "    plt.title(\"Top 5 songs among free users\")\n",
    "    plt.show()\n",
    "top_free_songs()\n",
    "    "
   ]
  },
  {
   "cell_type": "code",
   "execution_count": 39,
   "id": "aeba8b97",
   "metadata": {},
   "outputs": [
    {
     "name": "stderr",
     "output_type": "stream",
     "text": [
      "[Stage 67:>                                                         (0 + 8) / 8]\r"
     ]
    },
    {
     "name": "stdout",
     "output_type": "stream",
     "text": [
      "+--------------------+-----+\n",
      "|              artist|count|\n",
      "+--------------------+-----+\n",
      "|       Kings Of Leon| 8811|\n",
      "|            Coldplay| 8513|\n",
      "|Florence + The Ma...| 5966|\n",
      "|       Dwight Yoakam| 5508|\n",
      "|               Bjork| 5450|\n",
      "+--------------------+-----+\n",
      "only showing top 5 rows\n",
      "\n"
     ]
    },
    {
     "name": "stderr",
     "output_type": "stream",
     "text": [
      "                                                                                \r"
     ]
    }
   ],
   "source": [
    "from pyspark.sql.functions import when, col\n",
    "\n",
    "# Fix Bjork's name\n",
    "# When condition: if the artist name contains 'Bj', replace it with 'Bjork'\n",
    "# Otherwise, keep the original name\n",
    "\n",
    "artist_counts = artist_counts.withColumn(\n",
    "    'artist',\n",
    "    when(col('artist').contains('Bj'), 'Bjork').otherwise(col('artist'))\n",
    ")\n",
    "\n",
    "# Verify the changes\n",
    "artist_counts.show(5)"
   ]
  },
  {
   "cell_type": "code",
   "execution_count": 31,
   "id": "a32ed2c2",
   "metadata": {},
   "outputs": [
    {
     "name": "stderr",
     "output_type": "stream",
     "text": [
      "/Users/isiah/Library/jupyterlab-desktop/jlab_server/lib/python3.12/site-packages/IPython/core/pylabtools.py:170: UserWarning: Glyph 131 (\\x83) missing from font(s) DejaVu Sans.\n",
      "  fig.canvas.print_figure(bytes_io, **kw)\n"
     ]
    },
    {
     "data": {
      "image/png": "[encoded data removed]",
      "text/plain": [
       "<Figure size 640x480 with 1 Axes>"
      ]
     },
     "metadata": {},
     "output_type": "display_data"
    }
   ],
   "source": [
    "def paid_top_artists():\n",
    "    \"\"\"\n",
    "    Function to analyze paid user's top artists.\n",
    "    Filters the DataFrame for paid users, groups by artist, counts occurrences,\n",
    "    and visualizes the top 5 artists for paid users.\n",
    "    \"\"\"\n",
    "    from pyspark.sql.functions import col, count\n",
    "\n",
    "    # Filter for free users\n",
    "    paid_df = df_listen.filter(col('subscription') == 'paid')\n",
    "\n",
    "    # Select relevant columns\n",
    "    paid_df = paid_df.select('userId', 'artist', 'song', 'subscription', 'city', 'state')\n",
    "\n",
    "    # Group by artist, count occurrences, and sort in descending order\n",
    "    paid_artist_counts = paid_df.groupBy('artist').agg(count('*').alias('count')).orderBy(col('count').desc())\n",
    "\n",
    "    # Limit to top 5 artists and collect results\n",
    "    top_artists = paid_artist_counts.limit(5).collect()\n",
    "\n",
    "    # Prepare data for visualization\n",
    "    artists = [row['artist'] for row in top_artists][::-1]\n",
    "    counts = [row['count'] for row in top_artists][::-1]\n",
    "\n",
    "    # Create a horizontal bar chart using Pygal\n",
    "    import matplotlib.pyplot as plt\n",
    "    plt.barh(artists, counts)\n",
    "    plt.xlabel(\"Number of Views\")\n",
    "    plt.title(\"Top 5 artists for paid users\")\n",
    "    plt.show()\n",
    "paid_top_artists()"
   ]
  },
  {
   "cell_type": "code",
   "execution_count": 36,
   "id": "80cec872",
   "metadata": {},
   "outputs": [
    {
     "name": "stderr",
     "output_type": "stream",
     "text": [
      "                                                                                \r"
     ]
    },
    {
     "data": {
      "image/png": "[encoded data removed]",
      "text/plain": [
       "<Figure size 640x480 with 1 Axes>"
      ]
     },
     "metadata": {},
     "output_type": "display_data"
    }
   ],
   "source": [
    "def free_users():\n",
    "    \"\"\"\n",
    "    Function to analyze free user's top artists.\n",
    "    Filters the DataFrame for free users, groups by artist, counts occurrences,\n",
    "    and visualizes the top 5 artists for free users.\n",
    "    \"\"\"\n",
    "    from pyspark.sql.functions import col, count\n",
    "\n",
    "    # Filter for free users\n",
    "    free_df = df_listen.filter(col('subscription') == 'free')\n",
    "\n",
    "    # Select relevant columns\n",
    "    free_df = free_df.select('userId', 'artist', 'song', 'subscription', 'city', 'state')\n",
    "\n",
    "    # Group by artist, count occurrences, and sort in descending order\n",
    "    free_artist_counts = free_df.groupBy('artist').agg(count('*').alias('count')).orderBy(col('count').desc())\n",
    "\n",
    "    # Limit to top 5 artists and collect results\n",
    "    top_artists = free_artist_counts.limit(5).collect()\n",
    "\n",
    "    # Prepare data for visualization\n",
    "    artists = [row['artist'] for row in top_artists][::-1]\n",
    "    counts = [row['count'] for row in top_artists][::-1]\n",
    "\n",
    "    # Create a horizontal bar chart using Pygal\n",
    "    import matplotlib.pyplot as plt\n",
    "    plt.barh(artists, counts)\n",
    "    plt.xlabel(\"Number of Views\")\n",
    "    plt.title(\"Top 5 artists for free users\")\n",
    "    plt.show()\n",
    "free_users()"
   ]
  },
  {
   "cell_type": "code",
   "execution_count": null,
   "id": "6f0c034f",
   "metadata": {},
   "outputs": [],
   "source": []
  },
  {
   "cell_type": "code",
   "execution_count": null,
   "id": "33ee1d5c",
   "metadata": {},
   "outputs": [],
   "source": []
  }
 ],
 "metadata": {
  "kernelspec": {
   "display_name": "base",
   "language": "python",
   "name": "python3"
  },
  "language_info": {
   "codemirror_mode": {
    "name": "ipython",
    "version": 3
   },
   "file_extension": ".py",
   "mimetype": "text/x-python",
   "name": "python",
   "nbconvert_exporter": "python",
   "pygments_lexer": "ipython3",
   "version": "3.12.5"
  }
 },
 "nbformat": 4,
 "nbformat_minor": 5
}
